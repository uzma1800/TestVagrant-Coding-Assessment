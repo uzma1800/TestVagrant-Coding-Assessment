{
  "nbformat": 4,
  "nbformat_minor": 0,
  "metadata": {
    "colab": {
      "provenance": [],
      "authorship_tag": "ABX9TyNwmiJUpKbJihIzjFSy8UJt",
      "include_colab_link": true
    },
    "kernelspec": {
      "name": "python3",
      "display_name": "Python 3"
    },
    "language_info": {
      "name": "python"
    }
  },
  "cells": [
    {
      "cell_type": "markdown",
      "metadata": {
        "id": "view-in-github",
        "colab_type": "text"
      },
      "source": [
        "<a href=\"https://colab.research.google.com/github/uzma1800/TestVagrant-Coding-Assessment/blob/main/Untitled1.ipynb\" target=\"_parent\"><img src=\"https://colab.research.google.com/assets/colab-badge.svg\" alt=\"Open In Colab\"/></a>"
      ]
    },
    {
      "cell_type": "code",
      "execution_count": 5,
      "metadata": {
        "colab": {
          "base_uri": "https://localhost:8080/"
        },
        "id": "Ju0RNRqkVzXu",
        "outputId": "9bcf2eba-cf07-48da-e060-91467f244b48"
      },
      "outputs": [
        {
          "output_type": "stream",
          "name": "stdout",
          "text": [
            "Enter weekly budget\n",
            "40\n",
            "{\"TOI,BM\"},{\"Hindu,BM\"},{\"Hindu,HT\"},{\"BM,HT\"},"
          ]
        }
      ],
      "source": [
        "print(\"Enter weekly budget\")\n",
        "budget=int(input())\n",
        "dict={}\n",
        "dict['TOI']=26\n",
        "dict['Hindu']=20.5\n",
        "dict['ET']=34\n",
        "dict['BM']=10.5\n",
        "dict['HT']=18\n",
        "\n",
        "test = list(dict)\n",
        "\n",
        "final_result=[]\n",
        "result = [(a, b) for idx, a in enumerate(test) for b in test[idx + 1: ]]\n",
        "for (a,b) in result:\n",
        "    if dict[a]+dict[b]<budget:\n",
        "        s1='{\"'+a+','+b+'\"}'\n",
        "        final_result.append(s1)\n",
        "\n",
        "for i in final_result:\n",
        "    \n",
        "    print(i+',',end='')"
      ]
    }
  ]
}